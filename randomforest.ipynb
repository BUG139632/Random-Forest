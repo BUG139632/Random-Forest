{
 "cells": [
  {
   "cell_type": "code",
   "execution_count": 1,
   "metadata": {
    "collapsed": true
   },
   "outputs": [],
   "source": [
    "import numpy as np\n",
    "import matplotlib.pyplot as plt\n",
    "import pandas as pd\n",
    "import tensorflow as tf\n",
    "from tensorflow import keras\n",
    "import time\n",
    "from sklearn.ensemble import RandomForestClassifier\n",
    "from sklearn.model_selection import train_test_split\n",
    "from sklearn.metrics import confusion_matrix\n",
    "from sklearn.metrics import classification_report\n",
    "from sklearn.ensemble import RandomForestRegressor\n",
    "from sklearn.metrics import r2_score\n",
    "from sklearn.metrics import mean_squared_error"
   ]
  },
  {
   "cell_type": "code",
   "execution_count": 2,
   "metadata": {},
   "outputs": [
    {
     "name": "stdout",
     "output_type": "stream",
     "text": [
      "       Open   High  Close      Low    Volume\n",
      "0    12.070  12.42  12.16  11.5200   1529337\n",
      "1    12.240  14.35  14.11  12.1600   3113438\n",
      "2    13.830  14.87  13.55  13.0300   4410229\n",
      "3    13.500  13.50  12.84  12.8000   2469385\n",
      "4    12.940  13.18  12.75  12.6700   3480140\n",
      "..      ...    ...    ...      ...       ...\n",
      "979  30.285  33.78  32.19  29.4110  24037803\n",
      "980  31.670  31.70  30.16  29.5500  10621747\n",
      "981  29.970  30.44  30.02  28.5100  11280653\n",
      "982  29.370  29.49  27.61  26.4600  12804962\n",
      "983  27.020  27.66  25.71  25.6601  11724019\n",
      "\n",
      "[984 rows x 5 columns]\n"
     ]
    }
   ],
   "source": [
    "df=pd.read_csv('./data_BILI.csv',usecols=['Open','High','Close','Low','Volume'])\n",
    "print(df)"
   ]
  },
  {
   "cell_type": "code",
   "execution_count": 3,
   "metadata": {
    "collapsed": true
   },
   "outputs": [],
   "source": [
    "X = df.iloc[:, 0:-1].values \n",
    "Y = df.iloc[:, -1].values\n",
    "X_train, X_test, Y_train, Y_test = train_test_split(X, Y, test_size=0.3, random_state=1)"
   ]
  },
  {
   "cell_type": "code",
   "execution_count": 4,
   "metadata": {},
   "outputs": [
    {
     "name": "stdout",
     "output_type": "stream",
     "text": [
      "MSE train: 1393599456858.868896, test: 11105962717263.167969\n",
      "R^2 train: 0.900400, test: 0.322954\n"
     ]
    }
   ],
   "source": [
    "forest = RandomForestRegressor(n_estimators=1000,criterion='mse',random_state=1,n_jobs=-1)\n",
    "forest.fit(X_train, Y_train)\n",
    "Y_train_pred = forest.predict(X_train)\n",
    "Y_test_pred = forest.predict(X_test)\n",
    "print('MSE train: %f, test: %f' % (mean_squared_error(Y_train, Y_train_pred),mean_squared_error(Y_test, Y_test_pred)))\n",
    "print('R^2 train: %f, test: %f' % (r2_score(Y_train, Y_train_pred),r2_score(Y_test, Y_test_pred)))"
   ]
  },
  {
   "cell_type": "code",
   "execution_count": 5,
   "metadata": {},
   "outputs": [
    {
     "name": "stdout",
     "output_type": "stream",
     "text": [
      "[0.18080901282214468, 0.34855250161296414, 0.19160459088856896, 0.2790338946763223]\n",
      "[('High', 0.34855250161), ('Low', 0.27903389468), ('Close', 0.19160459089), ('Open', 0.18080901282)]\n"
     ]
    }
   ],
   "source": [
    "importances = list(forest.feature_importances_)\n",
    "print(importances)\n",
    "feature_list = list(df.columns)[0:4]\n",
    "feature_importances = [(feature, round(importance, 11)) for feature, importance in zip(feature_list, importances)]\n",
    "feature_importances = sorted(feature_importances, key = lambda x: x[1], reverse = True)\n",
    "print(feature_importances)"
   ]
  },
  {
   "cell_type": "code",
   "execution_count": 6,
   "metadata": {},
   "outputs": [
    {
     "name": "stdout",
     "output_type": "stream",
     "text": [
      "[0, 1, 2, 3]\n"
     ]
    },
    {
     "data": {
      "image/png": "[encoded data removed]",
      "text/plain": [
       "<Figure size 432x288 with 1 Axes>"
      ]
     },
     "metadata": {},
     "output_type": "display_data"
    }
   ],
   "source": [
    "x_values = list(range(len(importances)))\n",
    "print(x_values)\n",
    "plt.bar(x_values, importances, orientation = 'vertical')\n",
    "plt.xticks(x_values, feature_list,rotation=90)\n",
    "plt.ylabel('Importance'); plt.xlabel('Variable'); plt.title('Variable Importances');\n",
    "plt.show()"
   ]
  },
  {
   "cell_type": "code",
   "execution_count": null,
   "metadata": {
    "collapsed": true
   },
   "outputs": [],
   "source": []
  }
 ],
 "metadata": {
  "kernelspec": {
   "display_name": "Python 3",
   "language": "python",
   "name": "python3"
  },
  "language_info": {
   "codemirror_mode": {
    "name": "ipython",
    "version": 3
   },
   "file_extension": ".py",
   "mimetype": "text/x-python",
   "name": "python",
   "nbconvert_exporter": "python",
   "pygments_lexer": "ipython3",
   "version": "3.6.2"
  }
 },
 "nbformat": 4,
 "nbformat_minor": 2
}
